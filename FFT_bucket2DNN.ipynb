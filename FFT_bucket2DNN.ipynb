{
 "cells": [
  {
   "cell_type": "markdown",
   "metadata": {},
   "source": [
    "# Tests with only DNN and FFT"
   ]
  },
  {
   "cell_type": "code",
   "execution_count": 3,
   "metadata": {},
   "outputs": [],
   "source": [
    "import pandas as pd\n",
    "import numpy as np\n",
    "import pickle\n",
    "import os\n",
    "from tqdm import tqdm\n",
    "import matplotlib.pyplot as plt\n",
    "import math\n",
    "import time\n",
    "from scipy.fftpack import fft, fftfreq\n",
    "import string\n",
    "import tensorflow as tf\n",
    "import tensorflow as tf\n",
    "from tensorflow.keras import Sequential\n",
    "from tensorflow.keras.layers import Dense, LSTM, TimeDistributed, Dropout, Conv2D, Conv1D, MaxPooling1D\n",
    "from sklearn.model_selection import train_test_split\n",
    "from sklearn.model_selection import train_test_split\n",
    "from sklearn.preprocessing import MinMaxScaler\n",
    "from tensorboard.plugins.hparams import api as hp\n",
    "tf.keras.backend.clear_session()\n",
    "#%load_ext tensorboard"
   ]
  },
  {
   "cell_type": "code",
   "execution_count": 2,
   "metadata": {},
   "outputs": [],
   "source": [
    "%load_ext autoreload\n",
    "%autoreload 2"
   ]
  },
  {
   "cell_type": "code",
   "execution_count": 3,
   "metadata": {},
   "outputs": [],
   "source": [
    "from ipynb.fs.full.formata_dados import *\n",
    "from ipynb.fs.full.processa_dados import *"
   ]
  },
  {
   "cell_type": "code",
   "execution_count": 4,
   "metadata": {},
   "outputs": [
    {
     "name": "stdout",
     "output_type": "stream",
     "text": [
      "WARNING:tensorflow:From <ipython-input-4-6e7d52493bfc>:2: is_gpu_available (from tensorflow.python.framework.test_util) is deprecated and will be removed in a future version.\n",
      "Instructions for updating:\n",
      "Use `tf.config.list_physical_devices('GPU')` instead.\n"
     ]
    },
    {
     "data": {
      "text/plain": [
       "True"
      ]
     },
     "execution_count": 4,
     "metadata": {},
     "output_type": "execute_result"
    }
   ],
   "source": [
    "tf.test.is_gpu_available(\n",
    "    cuda_only=False, min_cuda_compute_capability=None\n",
    ") "
   ]
  },
  {
   "cell_type": "code",
   "execution_count": 8,
   "metadata": {},
   "outputs": [],
   "source": [
    "#Importa os dados formatados\n",
    "with open(\"Dataset\\\\dados_pickle\\\\dados_ok.pkl\", \"rb\") as dados_ok:\n",
    "        dados_ok = pickle.load(dados_ok)[0]\n",
    "with open(\"Dataset\\\\dados_pickle\\\\dados_agua_ok.pkl\", \"rb\") as dados_agua_ok:\n",
    "        dados_agua_ok = pickle.load(dados_agua_ok)[0]\n",
    "with open(\"Dataset\\\\dados_pickle\\\\dados_aspartame_ok.pkl\", \"rb\") as dados_aspartame_ok:\n",
    "        dados_aspartame_ok = pickle.load(dados_aspartame_ok)[0]\n",
    "with open(\"Dataset\\\\dados_pickle\\\\dados_sucralose_ok.pkl\", \"rb\") as dados_sucralose_ok:\n",
    "        dados_sucralose_ok = pickle.load(dados_sucralose_ok)[0]\n",
    "with open(\"Dataset\\\\dados_pickle\\\\dados_acucar_ok.pkl\", \"rb\") as dados_acucar_ok:\n",
    "        dados_acucar_ok = pickle.load(dados_acucar_ok)[0]\n",
    "with open(\"Dataset\\\\dados_pickle\\\\todos_os_dados_originais.pkl\", \"rb\") as todos_os_dados:\n",
    "        dados_originais = pickle.load(todos_os_dados)[0]"
   ]
  },
  {
   "cell_type": "code",
   "execution_count": 9,
   "metadata": {},
   "outputs": [],
   "source": [
    "#remove amplitudes consideradas como ruido na serie\n",
    "dados_sem_ruidos = remove_ruidos(dados_ok,80) #80 - substituir valores com amplitude acima de 80\n",
    "with open(\"Dataset\\\\dados_pickle\\\\dados_ok.pkl\", \"rb\") as dados_ok:\n",
    "    dados_ok = pickle.load(dados_ok)[0]"
   ]
  },
  {
   "cell_type": "code",
   "execution_count": 10,
   "metadata": {},
   "outputs": [],
   "source": [
    "#Carrega/salva dados\n",
    "gerar_dados = False\n",
    "if gerar_dados == True:\n",
    "    dados_sem_ruidos_separados_por_output = separa_dados_por_output(dados_sem_ruidos,dict_output)\n",
    "    with open(\"Dataset\\\\dados_pickle\\\\dados_semruido_ok.pkl\", \"wb\") as dados_ok_semruidos:\n",
    "            pickle.dump([dados_sem_ruidos], dados_ok_semruidos)\n",
    "    with open(\"Dataset\\\\dados_pickle\\\\dados_semruido_agua_ok.pkl\", \"wb\") as dados_agua_ok:\n",
    "            pickle.dump([dados_sem_ruidos_separados_por_output['Água']], dados_agua_ok)\n",
    "    with open(\"Dados\\\\dados_pickle\\\\dados_semruido_aspartame_ok.pkl\", \"wb\") as dados_aspartame_ok:\n",
    "            pickle.dump([dados_sem_ruidos_separados_por_output['aspartame']], dados_aspartame_ok)\n",
    "    with open(\"Dataset\\\\dados_pickle\\\\dados_semruido_sucralose_ok.pkl\", \"wb\") as dados_sucralose_ok:\n",
    "            pickle.dump([dados_sem_ruidos_separados_por_output['sucralose']], dados_sucralose_ok)\n",
    "    with open(\"Dataset\\\\dados_pickle\\\\dados_semruido_acucar_ok.pkl\", \"wb\") as dados_acucar_ok:\n",
    "            pickle.dump([dados_sem_ruidos_separados_por_output['acucar']], dados_acucar_ok)\n",
    "else:\n",
    "    with open(\"Dataset\\\\dados_pickle\\\\dados_semruido_ok.pkl\", \"rb\") as dados_ok_semruidos:\n",
    "            dados_semruido_ok = pickle.load(dados_ok_semruidos)[0]\n",
    "    with open(\"Dataset\\\\dados_pickle\\\\dados_semruido_agua_ok.pkl\", \"rb\") as dados_agua_ok:\n",
    "            dados_semruido_agua_ok= pickle.load(dados_agua_ok)[0]\n",
    "    with open(\"Dataset\\\\dados_pickle\\\\dados_semruido_aspartame_ok.pkl\", \"rb\") as dados_aspartame_ok:\n",
    "            dados_semruido_aspartame_ok = pickle.load(dados_aspartame_ok)[0]\n",
    "    with open(\"Dataset\\\\dados_pickle\\\\dados_semruido_sucralose_ok.pkl\", \"rb\") as dados_sucralose_ok:\n",
    "            dados_semruido_sucralose_ok = pickle.load(dados_sucralose_ok)[0]\n",
    "    with open(\"Dataset\\\\dados_pickle\\\\dados_semruido_acucar_ok.pkl\", \"rb\") as dados_acucar_ok:\n",
    "            dados_semruido_acucar_ok = pickle.load(dados_acucar_ok)[0]"
   ]
  },
  {
   "cell_type": "code",
   "execution_count": 11,
   "metadata": {},
   "outputs": [],
   "source": [
    "# gerar os vetores de input e output dos dados sem ruidos\n",
    "\n",
    "X_all = dados_sem_ruidos[:,:-4]\n",
    "y_all = dados_sem_ruidos[:,-4:]\n",
    "X_all_agua = dados_semruido_agua_ok[:,:-4]\n",
    "y_all_agua = dados_semruido_agua_ok[:,-4:]\n",
    "X_all_acucar = dados_semruido_acucar_ok[:,:-4]\n",
    "y_all_acucar = dados_semruido_acucar_ok[:,-4:]\n",
    "X_all_aspartame = dados_semruido_aspartame_ok[:,:-4]\n",
    "y_all_aspartame = dados_semruido_aspartame_ok[:,-4:]\n",
    "X_all_sucralose = dados_semruido_sucralose_ok[:,:-4]\n",
    "y_all_sucralose = dados_semruido_sucralose_ok[:,-4:]"
   ]
  },
  {
   "cell_type": "code",
   "execution_count": null,
   "metadata": {},
   "outputs": [],
   "source": []
  },
  {
   "cell_type": "code",
   "execution_count": 12,
   "metadata": {},
   "outputs": [],
   "source": [
    "def get_best(X_test, y_test, best_model):\n",
    "    doce_certo, agua_certo = np.linspace(0, 1, num=101), np.linspace(0, 1, num=101)\n",
    "    for i, j in enumerate(doce_certo):\n",
    "        agua_certo[i], doce_certo[i] = calc_preds(j, X_test, y_test, best_model)\n",
    "    b = agua_certo + doce_certo\n",
    "    return b.argmax(), doce_certo[b.argmax()], agua_certo[b.argmax()], [agua_certo, doce_certo]"
   ]
  },
  {
   "cell_type": "markdown",
   "metadata": {},
   "source": [
    "# Aqui começa o algoritmo"
   ]
  },
  {
   "cell_type": "code",
   "execution_count": 13,
   "metadata": {},
   "outputs": [],
   "source": [
    "quant_agua, quant_acucar, quant_aspartame, quant_sucralose = X_all_agua.shape[0], X_all_acucar.shape[0], X_all_aspartame.shape[0], X_all_sucralose.shape[0]"
   ]
  },
  {
   "cell_type": "code",
   "execution_count": 14,
   "metadata": {},
   "outputs": [],
   "source": [
    "s_agua = int(2*X_all_agua.shape[0]/3)\n",
    "s_acucar = int(2*X_all_acucar.shape[0]/3)\n",
    "s_aspartame = int(2*X_all_aspartame.shape[0]/3)\n",
    "s_sucralose = int(2*X_all_sucralose.shape[0]/3)\n",
    "\n",
    "X_all_agua_train = X_all_agua[:s_agua, :]\n",
    "X_all_agua_test = X_all_agua[s_agua:, :]\n",
    "X_all_acucar_train = X_all_acucar[:s_acucar, :]\n",
    "X_all_acucar_test = X_all_acucar[s_acucar:, :]\n",
    "X_all_aspartame_train = X_all_aspartame[:s_aspartame, :]\n",
    "X_all_aspartame_test = X_all_aspartame[s_aspartame:, :]\n",
    "X_all_sucralose_train = X_all_sucralose[:s_sucralose, :]\n",
    "X_all_sucralose_test = X_all_sucralose[s_sucralose:, :]\n",
    "\n",
    "# X_all_agua_train, X_all_agua_test, _, _ = train_test_split(X_all_agua, y_all_agua, test_size=0.3)\n",
    "# X_all_acucar_train, X_all_acucar_test, _, _ = train_test_split(X_all_acucar, y_all_acucar, test_size=0.3)\n",
    "# X_all_aspartame_train, X_all_aspartame_test, _, _ = train_test_split(X_all_aspartame, y_all_aspartame, test_size=0.3)\n",
    "# X_all_sucralose_train, X_all_sucralose_test, _, _ = train_test_split(X_all_sucralose, y_all_sucralose, test_size=0.3)\n",
    "\n",
    "window_time = 2\n",
    "t_inicial = 0\n",
    "delta_time = 16\n",
    "n_buckets = 20\n",
    "\n",
    "X_all_agua_train, y_all_agua_train = multiplica_dados(X_all_agua_train,t_inicial ,t_inicial+delta_time ,512 ,window_time, 0.1, y_all_agua)\n",
    "X_all_acucar_train, y_all_acucar_train = multiplica_dados(X_all_acucar_train,t_inicial ,t_inicial+delta_time ,512 ,window_time, 0.1, y_all_acucar)\n",
    "X_all_aspartame_train, y_all_aspartame_train = multiplica_dados(X_all_aspartame_train,t_inicial ,t_inicial+delta_time ,512 ,window_time, 0.1, y_all_aspartame)\n",
    "X_all_sucralose_train, y_all_sucralose_train = multiplica_dados(X_all_sucralose_train,t_inicial ,t_inicial+delta_time ,512 ,window_time, 0.1, y_all_sucralose)\n",
    "\n",
    "X_all_agua_test, y_all_agua_test = multiplica_dados(X_all_agua_test,t_inicial ,t_inicial+delta_time ,512 ,window_time, 0.1, y_all_agua)\n",
    "X_all_acucar_test, y_all_acucar_test = multiplica_dados(X_all_acucar_test,t_inicial ,t_inicial+delta_time ,512 ,window_time, 0.1, y_all_acucar)\n",
    "X_all_aspartame_test, y_all_aspartame_test = multiplica_dados(X_all_aspartame_test,t_inicial ,t_inicial+delta_time ,512 ,window_time, 0.1, y_all_aspartame)\n",
    "X_all_sucralose_test, y_all_sucralose_test = multiplica_dados(X_all_sucralose_test,t_inicial ,t_inicial+delta_time ,512 ,window_time, 0.1, y_all_sucralose)\n",
    "\n",
    "X_all_agua_train = converte_dados_buckets_fft(X_all_agua_train, n_buckets)\n",
    "X_all_acucar_train = converte_dados_buckets_fft(X_all_acucar_train, n_buckets)\n",
    "X_all_aspartame_train = converte_dados_buckets_fft(X_all_aspartame_train, n_buckets)\n",
    "X_all_sucralose_train = converte_dados_buckets_fft(X_all_sucralose_train, n_buckets)\n",
    "\n",
    "X_all_agua_test = converte_dados_buckets_fft(X_all_agua_test, n_buckets)\n",
    "X_all_acucar_test = converte_dados_buckets_fft(X_all_acucar_test, n_buckets)\n",
    "X_all_aspartame_test = converte_dados_buckets_fft(X_all_aspartame_test, n_buckets)\n",
    "X_all_sucralose_test = converte_dados_buckets_fft(X_all_sucralose_test, n_buckets)"
   ]
  },
  {
   "cell_type": "code",
   "execution_count": 15,
   "metadata": {},
   "outputs": [],
   "source": [
    "experimento = 'agua_acucar'\n",
    "\n",
    "if experimento == 'agua_acucar':\n",
    "    X_train = np.concatenate((X_all_agua_train, X_all_acucar_train))\n",
    "    X_test = np.concatenate((X_all_agua_test, X_all_acucar_test))\n",
    "    y_train = np.concatenate((y_all_agua_train, y_all_acucar_train))\n",
    "    y_test = np.concatenate((y_all_agua_test, y_all_acucar_test))\n",
    "elif experimento == 'agua_aspartame':\n",
    "    X_train = np.concatenate((X_all_agua_train, X_all_aspartame_train))\n",
    "    X_test = np.concatenate((X_all_agua_test, X_all_aspartame_test))\n",
    "    y_train = np.concatenate((y_all_agua_train, y_all_aspartame_train))\n",
    "    y_test = np.concatenate((y_all_agua_test, y_all_aspartame_test))\n",
    "elif experimento == 'agua_sucralose':\n",
    "    X_train = np.concatenate((X_all_agua_train, X_all_sucralose_train))\n",
    "    X_test = np.concatenate((X_all_agua_test, X_all_sucralose_test))\n",
    "    y_train = np.concatenate((y_all_agua_train, y_all_sucralose_train))\n",
    "    y_test = np.concatenate((y_all_agua_test, y_all_sucralose_test))    \n",
    "elif experimento == 'acucar_sucralose':\n",
    "    X_train = np.concatenate((X_all_acucar_train, X_all_sucralose_train))\n",
    "    X_test = np.concatenate((X_all_acucar_test, X_all_sucralose_test))\n",
    "    y_train = np.concatenate((y_all_acucar_train, y_all_sucralose_train))\n",
    "    y_test = np.concatenate((y_all_acucar_test, y_all_sucralose_test))\n",
    "elif experimento == 'acucar_aspartame':\n",
    "    X_train = np.concatenate((X_all_acucar_train, X_all_aspartame_train))\n",
    "    X_test = np.concatenate((X_all_acucar_test, X_all_aspartame_test))\n",
    "    y_train = np.concatenate((y_all_acucar_train, y_all_aspartame_train))\n",
    "    y_test = np.concatenate((y_all_acucar_test, y_all_aspartame_test, ))\n",
    "elif experimento == 'aspartame_sucralose':\n",
    "    X_train = np.concatenate((X_all_aspartame_train, X_all_sucralose_train))\n",
    "    X_test = np.concatenate((X_all_aspartame_test, X_all_sucralose_test))\n",
    "    y_train = np.concatenate((y_all_aspartame_train, y_all_sucralose_train))\n",
    "    y_test = np.concatenate((y_all_aspartame_test, y_all_sucralose_test))\n",
    "\n",
    "# agua = 0\n",
    "# acucar = 1\n",
    "# aspartame = 2\n",
    "# sucralose = 3\n",
    "\n",
    "y_train = y_train[:,1]\n",
    "y_test = y_test[:,1]    \n",
    "    \n",
    "if 'agua' in experimento:        # quando tempor Agua, ela é o output 0\n",
    "    y_train[y_train > 0.1] = 1\n",
    "    y_test[y_test > 0.1] = 1\n",
    "elif 'acucar' in experimento:    # quando tempos açúcar (sem agua), ela é o output 1\n",
    "    y_train[y_train > 1] = 0\n",
    "    y_test[y_test > 1] = 0\n",
    "else:\n",
    "    print(\"else\")\n",
    "    y_train[y_train == 2] = 0      # aspartame vs sucralose: aspartame=0, sucralose=1\n",
    "    y_train[y_train == 3] = 1 \n",
    "    y_test[y_test == 2] = 0\n",
    "    y_test[y_test == 3] = 1\n",
    "\n",
    "# X_train = tf.keras.utils.normalize(X_train, axis=-1, order=2)\n",
    "# X_test = tf.keras.utils.normalize(X_test, axis=-1, order=2)\n",
    "X_train_len = X_train.shape[0]\n",
    "X_all = tf.keras.utils.normalize(np.concatenate((X_train, X_test)), axis=-1, order=2)\n",
    "X_train = X_all[:X_train_len,:]\n",
    "X_test = X_all[X_train_len:,:]"
   ]
  },
  {
   "cell_type": "code",
   "execution_count": 23,
   "metadata": {},
   "outputs": [
    {
     "data": {
      "text/plain": [
       "1.0"
      ]
     },
     "execution_count": 23,
     "metadata": {},
     "output_type": "execute_result"
    }
   ],
   "source": [
    "y_train[1800]"
   ]
  },
  {
   "cell_type": "code",
   "execution_count": 24,
   "metadata": {},
   "outputs": [
    {
     "data": {
      "text/plain": [
       "array([0.04434944, 0.06909015, 0.06719748, 0.08181626, 0.06550014,\n",
       "       0.06501462, 0.05313146, 0.09424667, 0.02561683, 0.08053324,\n",
       "       0.19036571, 0.84686781, 0.22278145, 0.17550473, 0.3098807 ,\n",
       "       0.05767454, 0.06668427, 0.07263563, 0.10203008, 0.03664637])"
      ]
     },
     "execution_count": 24,
     "metadata": {},
     "output_type": "execute_result"
    }
   ],
   "source": [
    "X_train[0]"
   ]
  },
  {
   "cell_type": "code",
   "execution_count": 16,
   "metadata": {},
   "outputs": [
    {
     "data": {
      "text/plain": [
       "((2800, 20), (2800,), (1680, 20), (1680,))"
      ]
     },
     "execution_count": 16,
     "metadata": {},
     "output_type": "execute_result"
    }
   ],
   "source": [
    "X_train.shape, y_train.shape, X_test.shape, y_test.shape"
   ]
  },
  {
   "cell_type": "code",
   "execution_count": 24,
   "metadata": {},
   "outputs": [],
   "source": [
    "model = tf.keras.Sequential()\n",
    "model.add(Dense(16, activation='relu')) # retified linear unit\n",
    "model.add(Dropout(0.2))\n",
    "model.add(Dense(16, activation='relu'))\n",
    "model.add(Dropout(0.2))\n",
    "model.add(Dense(64, activation='relu'))\n",
    "model.add(Dropout(0.2))\n",
    "model.add(Dense(1, activation='sigmoid'))\n",
    "model.compile(loss='binary_crossentropy', optimizer='adam', metrics=['accuracy'])"
   ]
  },
  {
   "cell_type": "code",
   "execution_count": 30,
   "metadata": {},
   "outputs": [
    {
     "name": "stdout",
     "output_type": "stream",
     "text": [
      "Epoch 1/100\n",
      "6/6 [==============================] - 0s 2ms/step - loss: 0.4889 - accuracy: 0.7514\n",
      "Epoch 2/100\n",
      "6/6 [==============================] - 0s 2ms/step - loss: 0.4894 - accuracy: 0.7464\n",
      "Epoch 3/100\n",
      "6/6 [==============================] - 0s 2ms/step - loss: 0.4903 - accuracy: 0.7446\n",
      "Epoch 4/100\n",
      "6/6 [==============================] - 0s 2ms/step - loss: 0.4843 - accuracy: 0.7579\n",
      "Epoch 5/100\n",
      "6/6 [==============================] - 0s 2ms/step - loss: 0.4938 - accuracy: 0.7450\n",
      "Epoch 6/100\n",
      "6/6 [==============================] - 0s 2ms/step - loss: 0.4881 - accuracy: 0.7500\n",
      "Epoch 7/100\n",
      "6/6 [==============================] - 0s 2ms/step - loss: 0.4805 - accuracy: 0.7643\n",
      "Epoch 8/100\n",
      "6/6 [==============================] - 0s 2ms/step - loss: 0.4827 - accuracy: 0.7579\n",
      "Epoch 9/100\n",
      "6/6 [==============================] - 0s 2ms/step - loss: 0.4703 - accuracy: 0.7704\n",
      "Epoch 10/100\n",
      "6/6 [==============================] - 0s 2ms/step - loss: 0.4672 - accuracy: 0.7657\n",
      "Epoch 11/100\n",
      "6/6 [==============================] - 0s 2ms/step - loss: 0.4745 - accuracy: 0.7604\n",
      "Epoch 12/100\n",
      "6/6 [==============================] - 0s 2ms/step - loss: 0.4647 - accuracy: 0.7629\n",
      "Epoch 13/100\n",
      "6/6 [==============================] - 0s 2ms/step - loss: 0.4720 - accuracy: 0.7582\n",
      "Epoch 14/100\n",
      "6/6 [==============================] - 0s 2ms/step - loss: 0.4703 - accuracy: 0.7639\n",
      "Epoch 15/100\n",
      "6/6 [==============================] - 0s 2ms/step - loss: 0.4733 - accuracy: 0.7589\n",
      "Epoch 16/100\n",
      "6/6 [==============================] - 0s 2ms/step - loss: 0.4658 - accuracy: 0.7650\n",
      "Epoch 17/100\n",
      "6/6 [==============================] - 0s 2ms/step - loss: 0.4634 - accuracy: 0.7632\n",
      "Epoch 18/100\n",
      "6/6 [==============================] - 0s 2ms/step - loss: 0.4658 - accuracy: 0.7707\n",
      "Epoch 19/100\n",
      "6/6 [==============================] - 0s 2ms/step - loss: 0.4749 - accuracy: 0.7582\n",
      "Epoch 20/100\n",
      "6/6 [==============================] - 0s 2ms/step - loss: 0.4632 - accuracy: 0.7639\n",
      "Epoch 21/100\n",
      "6/6 [==============================] - 0s 2ms/step - loss: 0.4573 - accuracy: 0.7632\n",
      "Epoch 22/100\n",
      "6/6 [==============================] - 0s 2ms/step - loss: 0.4615 - accuracy: 0.7696\n",
      "Epoch 23/100\n",
      "6/6 [==============================] - 0s 2ms/step - loss: 0.4618 - accuracy: 0.7625\n",
      "Epoch 24/100\n",
      "6/6 [==============================] - 0s 2ms/step - loss: 0.4525 - accuracy: 0.7700\n",
      "Epoch 25/100\n",
      "6/6 [==============================] - 0s 2ms/step - loss: 0.4556 - accuracy: 0.7725\n",
      "Epoch 26/100\n",
      "6/6 [==============================] - 0s 2ms/step - loss: 0.4678 - accuracy: 0.7618\n",
      "Epoch 27/100\n",
      "6/6 [==============================] - 0s 2ms/step - loss: 0.4531 - accuracy: 0.7771\n",
      "Epoch 28/100\n",
      "6/6 [==============================] - 0s 2ms/step - loss: 0.4590 - accuracy: 0.7725\n",
      "Epoch 29/100\n",
      "6/6 [==============================] - 0s 2ms/step - loss: 0.4599 - accuracy: 0.7693\n",
      "Epoch 30/100\n",
      "6/6 [==============================] - 0s 2ms/step - loss: 0.4565 - accuracy: 0.7664\n",
      "Epoch 31/100\n",
      "6/6 [==============================] - 0s 2ms/step - loss: 0.4441 - accuracy: 0.7739\n",
      "Epoch 32/100\n",
      "6/6 [==============================] - 0s 2ms/step - loss: 0.4456 - accuracy: 0.7818\n",
      "Epoch 33/100\n",
      "6/6 [==============================] - 0s 2ms/step - loss: 0.4433 - accuracy: 0.7811\n",
      "Epoch 34/100\n",
      "6/6 [==============================] - 0s 2ms/step - loss: 0.4460 - accuracy: 0.7750\n",
      "Epoch 35/100\n",
      "6/6 [==============================] - 0s 2ms/step - loss: 0.4532 - accuracy: 0.7675\n",
      "Epoch 36/100\n",
      "6/6 [==============================] - 0s 2ms/step - loss: 0.4451 - accuracy: 0.7754\n",
      "Epoch 37/100\n",
      "6/6 [==============================] - 0s 2ms/step - loss: 0.4515 - accuracy: 0.7729\n",
      "Epoch 38/100\n",
      "6/6 [==============================] - 0s 2ms/step - loss: 0.4359 - accuracy: 0.7779\n",
      "Epoch 39/100\n",
      "6/6 [==============================] - 0s 2ms/step - loss: 0.4544 - accuracy: 0.7707\n",
      "Epoch 40/100\n",
      "6/6 [==============================] - 0s 2ms/step - loss: 0.4453 - accuracy: 0.7786\n",
      "Epoch 41/100\n",
      "6/6 [==============================] - 0s 2ms/step - loss: 0.4486 - accuracy: 0.7711\n",
      "Epoch 42/100\n",
      "6/6 [==============================] - 0s 2ms/step - loss: 0.4416 - accuracy: 0.7818\n",
      "Epoch 43/100\n",
      "6/6 [==============================] - 0s 2ms/step - loss: 0.4479 - accuracy: 0.7732\n",
      "Epoch 44/100\n",
      "6/6 [==============================] - 0s 2ms/step - loss: 0.4439 - accuracy: 0.7757\n",
      "Epoch 45/100\n",
      "6/6 [==============================] - 0s 2ms/step - loss: 0.4446 - accuracy: 0.7825\n",
      "Epoch 46/100\n",
      "6/6 [==============================] - 0s 2ms/step - loss: 0.4429 - accuracy: 0.7818\n",
      "Epoch 47/100\n",
      "6/6 [==============================] - 0s 2ms/step - loss: 0.4263 - accuracy: 0.7871\n",
      "Epoch 48/100\n",
      "6/6 [==============================] - 0s 2ms/step - loss: 0.4450 - accuracy: 0.7804\n",
      "Epoch 49/100\n",
      "6/6 [==============================] - 0s 2ms/step - loss: 0.4237 - accuracy: 0.7979\n",
      "Epoch 50/100\n",
      "6/6 [==============================] - 0s 2ms/step - loss: 0.4372 - accuracy: 0.7914\n",
      "Epoch 51/100\n",
      "6/6 [==============================] - 0s 2ms/step - loss: 0.4378 - accuracy: 0.7829\n",
      "Epoch 52/100\n",
      "6/6 [==============================] - 0s 2ms/step - loss: 0.4236 - accuracy: 0.7904\n",
      "Epoch 53/100\n",
      "6/6 [==============================] - 0s 2ms/step - loss: 0.4247 - accuracy: 0.7889\n",
      "Epoch 54/100\n",
      "6/6 [==============================] - 0s 2ms/step - loss: 0.4255 - accuracy: 0.7864\n",
      "Epoch 55/100\n",
      "6/6 [==============================] - 0s 2ms/step - loss: 0.4306 - accuracy: 0.7882\n",
      "Epoch 56/100\n",
      "6/6 [==============================] - 0s 2ms/step - loss: 0.4372 - accuracy: 0.7900\n",
      "Epoch 57/100\n",
      "6/6 [==============================] - 0s 2ms/step - loss: 0.4228 - accuracy: 0.7936\n",
      "Epoch 58/100\n",
      "6/6 [==============================] - 0s 2ms/step - loss: 0.4160 - accuracy: 0.7975\n",
      "Epoch 59/100\n",
      "6/6 [==============================] - 0s 2ms/step - loss: 0.4281 - accuracy: 0.7925\n",
      "Epoch 60/100\n",
      "6/6 [==============================] - 0s 2ms/step - loss: 0.4262 - accuracy: 0.7968\n",
      "Epoch 61/100\n",
      "6/6 [==============================] - 0s 2ms/step - loss: 0.4253 - accuracy: 0.7986\n",
      "Epoch 62/100\n",
      "6/6 [==============================] - 0s 2ms/step - loss: 0.4225 - accuracy: 0.7896\n",
      "Epoch 63/100\n",
      "6/6 [==============================] - 0s 2ms/step - loss: 0.4284 - accuracy: 0.7907\n",
      "Epoch 64/100\n",
      "6/6 [==============================] - 0s 2ms/step - loss: 0.4321 - accuracy: 0.7893\n",
      "Epoch 65/100\n",
      "6/6 [==============================] - 0s 2ms/step - loss: 0.4306 - accuracy: 0.7950\n",
      "Epoch 66/100\n",
      "6/6 [==============================] - 0s 2ms/step - loss: 0.4185 - accuracy: 0.7982\n",
      "Epoch 67/100\n",
      "6/6 [==============================] - 0s 2ms/step - loss: 0.4250 - accuracy: 0.8007\n",
      "Epoch 68/100\n",
      "6/6 [==============================] - 0s 2ms/step - loss: 0.4233 - accuracy: 0.7932\n",
      "Epoch 69/100\n",
      "6/6 [==============================] - 0s 2ms/step - loss: 0.4132 - accuracy: 0.8021\n",
      "Epoch 70/100\n",
      "6/6 [==============================] - 0s 2ms/step - loss: 0.4223 - accuracy: 0.7950\n",
      "Epoch 71/100\n",
      "6/6 [==============================] - 0s 2ms/step - loss: 0.4189 - accuracy: 0.7968\n",
      "Epoch 72/100\n",
      "6/6 [==============================] - 0s 2ms/step - loss: 0.4170 - accuracy: 0.7954\n",
      "Epoch 73/100\n",
      "6/6 [==============================] - 0s 2ms/step - loss: 0.4245 - accuracy: 0.7971\n",
      "Epoch 74/100\n",
      "6/6 [==============================] - 0s 2ms/step - loss: 0.4199 - accuracy: 0.7950\n",
      "Epoch 75/100\n",
      "6/6 [==============================] - 0s 2ms/step - loss: 0.4234 - accuracy: 0.7986\n",
      "Epoch 76/100\n",
      "6/6 [==============================] - 0s 2ms/step - loss: 0.4129 - accuracy: 0.8043\n",
      "Epoch 77/100\n",
      "6/6 [==============================] - 0s 2ms/step - loss: 0.4161 - accuracy: 0.8032\n",
      "Epoch 78/100\n",
      "6/6 [==============================] - 0s 2ms/step - loss: 0.4237 - accuracy: 0.8036\n",
      "Epoch 79/100\n",
      "6/6 [==============================] - 0s 2ms/step - loss: 0.4085 - accuracy: 0.8057\n",
      "Epoch 80/100\n",
      "6/6 [==============================] - 0s 2ms/step - loss: 0.4191 - accuracy: 0.7982\n",
      "Epoch 81/100\n",
      "6/6 [==============================] - 0s 2ms/step - loss: 0.4144 - accuracy: 0.8046\n",
      "Epoch 82/100\n",
      "6/6 [==============================] - 0s 2ms/step - loss: 0.4139 - accuracy: 0.8075\n",
      "Epoch 83/100\n",
      "6/6 [==============================] - 0s 2ms/step - loss: 0.4186 - accuracy: 0.8025\n",
      "Epoch 84/100\n",
      "6/6 [==============================] - 0s 2ms/step - loss: 0.4146 - accuracy: 0.7946\n",
      "Epoch 85/100\n",
      "6/6 [==============================] - 0s 2ms/step - loss: 0.4162 - accuracy: 0.8039\n",
      "Epoch 86/100\n",
      "6/6 [==============================] - 0s 2ms/step - loss: 0.4169 - accuracy: 0.8039\n",
      "Epoch 87/100\n",
      "6/6 [==============================] - 0s 2ms/step - loss: 0.4049 - accuracy: 0.8054\n",
      "Epoch 88/100\n",
      "6/6 [==============================] - 0s 2ms/step - loss: 0.4025 - accuracy: 0.8121\n",
      "Epoch 89/100\n",
      "6/6 [==============================] - 0s 2ms/step - loss: 0.4084 - accuracy: 0.8029\n",
      "Epoch 90/100\n",
      "6/6 [==============================] - 0s 2ms/step - loss: 0.4089 - accuracy: 0.8129\n",
      "Epoch 91/100\n",
      "6/6 [==============================] - 0s 2ms/step - loss: 0.4039 - accuracy: 0.8068\n",
      "Epoch 92/100\n",
      "6/6 [==============================] - 0s 2ms/step - loss: 0.4098 - accuracy: 0.7957\n",
      "Epoch 93/100\n",
      "6/6 [==============================] - 0s 2ms/step - loss: 0.4087 - accuracy: 0.8061\n",
      "Epoch 94/100\n",
      "6/6 [==============================] - 0s 2ms/step - loss: 0.4036 - accuracy: 0.8079\n",
      "Epoch 95/100\n",
      "6/6 [==============================] - 0s 2ms/step - loss: 0.4132 - accuracy: 0.8004\n",
      "Epoch 96/100\n",
      "6/6 [==============================] - 0s 2ms/step - loss: 0.4087 - accuracy: 0.8086\n",
      "Epoch 97/100\n",
      "6/6 [==============================] - 0s 2ms/step - loss: 0.4003 - accuracy: 0.8179\n",
      "Epoch 98/100\n",
      "6/6 [==============================] - 0s 2ms/step - loss: 0.3958 - accuracy: 0.8150\n",
      "Epoch 99/100\n",
      "6/6 [==============================] - 0s 2ms/step - loss: 0.4084 - accuracy: 0.8050\n",
      "Epoch 100/100\n",
      "6/6 [==============================] - 0s 2ms/step - loss: 0.4109 - accuracy: 0.8018\n"
     ]
    },
    {
     "data": {
      "text/plain": [
       "<tensorflow.python.keras.callbacks.History at 0x7f57fc4c8b50>"
      ]
     },
     "execution_count": 30,
     "metadata": {},
     "output_type": "execute_result"
    }
   ],
   "source": [
    "model.fit(X_train, y_train, epochs=100, verbose=True, shuffle=True, batch_size=512)"
   ]
  },
  {
   "cell_type": "code",
   "execution_count": 31,
   "metadata": {},
   "outputs": [],
   "source": [
    "# https://machinelearningmastery.com/visualize-deep-learning-neural-network-model-keras/#:~:text=Summarize%20Model,output%20shape%20of%20each%20layer."
   ]
  },
  {
   "cell_type": "code",
   "execution_count": 32,
   "metadata": {},
   "outputs": [
    {
     "data": {
      "text/plain": [
       "[1.1774907112121582, 0.36547619104385376]"
      ]
     },
     "execution_count": 32,
     "metadata": {},
     "output_type": "execute_result"
    }
   ],
   "source": [
    "model.evaluate(X_test, y_test, verbose=False)"
   ]
  },
  {
   "cell_type": "code",
   "execution_count": 33,
   "metadata": {},
   "outputs": [
    {
     "name": "stdout",
     "output_type": "stream",
     "text": [
      "98 99.16666666666667 8.571428571428571\n"
     ]
    },
    {
     "data": {
      "text/plain": [
       "[<matplotlib.lines.Line2D at 0x7f57fc423390>]"
      ]
     },
     "execution_count": 33,
     "metadata": {},
     "output_type": "execute_result"
    },
    {
     "data": {
      "image/png": "[encoded data removed]",
      "text/plain": [
       "<Figure size 432x288 with 1 Axes>"
      ]
     },
     "metadata": {
      "needs_background": "light"
     },
     "output_type": "display_data"
    }
   ],
   "source": [
    "best, best_doce, best_agua, [agua_certo, doce_certo] = get_best(X_test, y_test, model)\n",
    "print(best, best_doce, best_agua)\n",
    "plt.plot(agua_certo)\n",
    "plt.plot(doce_certo)\n",
    "plt.plot(agua_certo + doce_certo)"
   ]
  },
  {
   "cell_type": "code",
   "execution_count": 19,
   "metadata": {},
   "outputs": [],
   "source": [
    "#model.save('04_06_acucar_sucralose.h5')"
   ]
  },
  {
   "cell_type": "code",
   "execution_count": 20,
   "metadata": {},
   "outputs": [
    {
     "data": {
      "text/plain": [
       "(1680, 20)"
      ]
     },
     "execution_count": 20,
     "metadata": {},
     "output_type": "execute_result"
    }
   ],
   "source": [
    "X_test.shape"
   ]
  },
  {
   "cell_type": "code",
   "execution_count": 21,
   "metadata": {},
   "outputs": [
    {
     "data": {
      "text/plain": [
       "[0.6959596276283264, 0.4970238208770752]"
      ]
     },
     "execution_count": 21,
     "metadata": {},
     "output_type": "execute_result"
    }
   ],
   "source": [
    "model.evaluate(X_test, y_test, verbose=False)"
   ]
  },
  {
   "cell_type": "code",
   "execution_count": 34,
   "metadata": {},
   "outputs": [],
   "source": [
    "from kerastuner import HyperModel\n",
    "from kerastuner.tuners import RandomSearch\n",
    "\n",
    "def create_model_base(hp):\n",
    "    model = tf.keras.Sequential()\n",
    "    model.add(Dense(hp.Int('Dense_01', min_value=0, max_value=128, step=16,default=64), activation='relu'))\n",
    "    model.add(Dropout(rate=hp.Float('dropout_1', min_value=0.0, max_value=0.4, default=0.25, step=0.05)))\n",
    "    model.add(Dense(hp.Int('Dense_02', min_value=0, max_value=128, step=16,default=64), activation='relu'))\n",
    "    model.add(Dropout(rate=hp.Float('dropout_2', min_value=0.0, max_value=0.4, default=0.25, step=0.05)))\n",
    "    model.add(Dense(hp.Int('Dense_03', min_value=0, max_value=128, step=16,default=64), activation='relu'))\n",
    "    model.add(Dropout(rate=hp.Float('dropout_3', min_value=0.0, max_value=0.4, default=0.25, step=0.05)))\n",
    "    model.add(Dense(1, activation='sigmoid'))\n",
    "    model.compile(loss='binary_crossentropy', optimizer='adam', metrics=['accuracy'])\n",
    "    return model\n",
    "\n",
    "def create_tunned_model(hp):\n",
    "    model = tf.keras.Sequential()  \n",
    "    model.add(Dense(hp.Int('Dense_01', min_value=16, max_value=128, step=16,default=64), activation='relu'))\n",
    "    model.add(Dropout(0.2))\n",
    "    model.add(Dense(hp.Int('Dense_02', min_value=16, max_value=128, step=16,default=64), activation='relu'))\n",
    "    model.add(Dropout(0.2))\n",
    "    model.add(Dense(1, activation='sigmoid'))\n",
    "    model.compile(loss='binary_crossentropy', optimizer='adam', metrics=['accuracy'])\n",
    "    return model"
   ]
  },
  {
   "cell_type": "code",
   "execution_count": null,
   "metadata": {},
   "outputs": [],
   "source": [
    "tuner = RandomSearch(create_tunned_model, objective='val_accuracy', max_trials=10, executions_per_trial=5, directory='log_dir_agua_aspartame3')"
   ]
  },
  {
   "cell_type": "code",
   "execution_count": null,
   "metadata": {},
   "outputs": [],
   "source": [
    "tuner.search(x=X_train, y=y_train, epochs=200, batch_size=64, validation_data=(X_test, y_test))"
   ]
  },
  {
   "cell_type": "code",
   "execution_count": null,
   "metadata": {},
   "outputs": [],
   "source": [
    "tuner.results_summary()"
   ]
  },
  {
   "cell_type": "code",
   "execution_count": null,
   "metadata": {},
   "outputs": [],
   "source": [
    "best_model = tuner.get_best_models(num_models=3)[0]"
   ]
  },
  {
   "cell_type": "code",
   "execution_count": null,
   "metadata": {},
   "outputs": [],
   "source": [
    "best_model.summary()"
   ]
  },
  {
   "cell_type": "code",
   "execution_count": null,
   "metadata": {},
   "outputs": [],
   "source": [
    "loss, accuracy = best_model.evaluate(X_test, y_test)"
   ]
  },
  {
   "cell_type": "code",
   "execution_count": null,
   "metadata": {},
   "outputs": [],
   "source": [
    "best, best_doce, best_agua, [agua_certo, doce_certo] = get_best()\n",
    "print(best, best_doce, best_agua)\n",
    "plt.plot(agua_certo)\n",
    "plt.plot(doce_certo)\n",
    "plt.plot(agua_certo + doce_certo)"
   ]
  },
  {
   "cell_type": "code",
   "execution_count": null,
   "metadata": {},
   "outputs": [],
   "source": [
    "tf.keras.models.save_model(best_model, 'tunner01_agua_acucar_V1.h5')"
   ]
  },
  {
   "cell_type": "code",
   "execution_count": null,
   "metadata": {},
   "outputs": [],
   "source": [
    "best_model.summary()"
   ]
  },
  {
   "cell_type": "code",
   "execution_count": null,
   "metadata": {},
   "outputs": [],
   "source": [
    "model = return_model()"
   ]
  },
  {
   "cell_type": "code",
   "execution_count": null,
   "metadata": {},
   "outputs": [],
   "source": [
    "model.fit(X_train, y_train, epochs=150, verbose=True, shuffle=False)  # validation_data=(X_test, y_test)"
   ]
  },
  {
   "cell_type": "code",
   "execution_count": null,
   "metadata": {},
   "outputs": [],
   "source": [
    "#model = tf.keras.models.load_model('15_05_V3agua_acucar.h5')"
   ]
  },
  {
   "cell_type": "code",
   "execution_count": null,
   "metadata": {},
   "outputs": [],
   "source": [
    "model.evaluate(X_test, y_test, verbose=False)"
   ]
  },
  {
   "cell_type": "code",
   "execution_count": null,
   "metadata": {},
   "outputs": [],
   "source": [
    "print(calc_preds(0.95, X_test, y_test, model))"
   ]
  },
  {
   "cell_type": "code",
   "execution_count": null,
   "metadata": {},
   "outputs": [],
   "source": [
    "def get_best():\n",
    "    doce_certo, agua_certo = np.linspace(0, 1, num=101), np.linspace(0, 1, num=101)\n",
    "    for i, j in enumerate(doce_certo):\n",
    "        agua_certo[i], doce_certo[i] = calc_preds(j, X_test, y_test, model)\n",
    "    b = agua_certo + doce_certo\n",
    "    return b.argmax(), doce_certo[b.argmax()], agua_certo[b.argmax()], [agua_certo, doce_certo]"
   ]
  },
  {
   "cell_type": "code",
   "execution_count": null,
   "metadata": {},
   "outputs": [],
   "source": [
    "best, best_doce, best_agua, [agua_certo, doce_certo] = get_best()\n",
    "print(best, best_doce, best_agua)\n",
    "plt.plot(agua_certo)\n",
    "plt.plot(doce_certo)\n",
    "plt.plot(agua_certo + doce_certo)"
   ]
  },
  {
   "cell_type": "code",
   "execution_count": null,
   "metadata": {},
   "outputs": [],
   "source": [
    "#model.save('15_05_V3acucar_acucar.h5')"
   ]
  },
  {
   "cell_type": "code",
   "execution_count": null,
   "metadata": {},
   "outputs": [],
   "source": []
  },
  {
   "cell_type": "code",
   "execution_count": null,
   "metadata": {},
   "outputs": [],
   "source": []
  },
  {
   "cell_type": "code",
   "execution_count": null,
   "metadata": {},
   "outputs": [],
   "source": []
  },
  {
   "cell_type": "code",
   "execution_count": null,
   "metadata": {},
   "outputs": [],
   "source": []
  },
  {
   "cell_type": "markdown",
   "metadata": {},
   "source": [
    "## First tests on the CNN"
   ]
  },
  {
   "cell_type": "code",
   "execution_count": 1,
   "metadata": {},
   "outputs": [],
   "source": [
    "def build_model(hp):\n",
    "    model = tf.keras.Sequential()\n",
    "    model.add(Dropout(hp.Float('drop1',\n",
    "                                min_value=0.2,\n",
    "                                max_value=0.7,\n",
    "                                step=0.1)))\n",
    "    model.add(Conv1D(filters=500, kernel_size=512, activation='relu', kernel_constraint=MaxNorm(1.), strides=5, input_shape=(X_train.shape[1],1)))\n",
    "    model.add(Dropout(0.4))\n",
    "    model.add(MaxPooling1D(pool_size=2))\n",
    "    model.add(Flatten())\n",
    "    model.add(Dropout(0.4))\n",
    "    model.add(Dense(hp.Int('Dense_last',\n",
    "                                min_value=20,\n",
    "                                max_value=500,\n",
    "                                step=40)))\n",
    "    model.add(Dropout(0.2))\n",
    "    model.add(Dense(4, activation=hp.Choice('activation', ['sigmoid', 'softmax']))) # softmax\n",
    "    model.compile(\n",
    "        loss='categorical_crossentropy', #losses.CategoricalCrossentropy(from_logits=True), \n",
    "        optimizer='adam', \n",
    "        metrics=['accuracy'])\n",
    "    # history = model.fit(X_train, y_train, validation_data=(X_test, y_test), epochs=8, batch_size=512, verbose=True, shuffle=True, callbacks=[es, mc])\n",
    "    return model"
   ]
  },
  {
   "cell_type": "code",
   "execution_count": 4,
   "metadata": {},
   "outputs": [
    {
     "ename": "NameError",
     "evalue": "name 'EarlyStopping' is not defined",
     "output_type": "error",
     "traceback": [
      "\u001b[1;31m---------------------------------------------------------------------------\u001b[0m",
      "\u001b[1;31mNameError\u001b[0m                                 Traceback (most recent call last)",
      "\u001b[1;32m<ipython-input-4-955c582f0245>\u001b[0m in \u001b[0;36m<module>\u001b[1;34m\u001b[0m\n\u001b[0;32m      1\u001b[0m \u001b[0mLOG_DIR\u001b[0m \u001b[1;33m=\u001b[0m \u001b[1;34mf\"{int(time.time())}\"\u001b[0m\u001b[1;33m\u001b[0m\u001b[1;33m\u001b[0m\u001b[0m\n\u001b[0;32m      2\u001b[0m \u001b[0mtensorboard_callback\u001b[0m \u001b[1;33m=\u001b[0m \u001b[0mtf\u001b[0m\u001b[1;33m.\u001b[0m\u001b[0mkeras\u001b[0m\u001b[1;33m.\u001b[0m\u001b[0mcallbacks\u001b[0m\u001b[1;33m.\u001b[0m\u001b[0mTensorBoard\u001b[0m\u001b[1;33m(\u001b[0m\u001b[0mlog_dir\u001b[0m\u001b[1;33m=\u001b[0m\u001b[1;34m'logs7\\\\hparams'\u001b[0m\u001b[1;33m,\u001b[0m \u001b[0mhistogram_freq\u001b[0m\u001b[1;33m=\u001b[0m\u001b[1;36m1\u001b[0m\u001b[1;33m)\u001b[0m\u001b[1;33m\u001b[0m\u001b[1;33m\u001b[0m\u001b[0m\n\u001b[1;32m----> 3\u001b[1;33m \u001b[0mes\u001b[0m \u001b[1;33m=\u001b[0m \u001b[0mEarlyStopping\u001b[0m\u001b[1;33m(\u001b[0m\u001b[0mmonitor\u001b[0m\u001b[1;33m=\u001b[0m\u001b[1;34m'val_loss'\u001b[0m\u001b[1;33m,\u001b[0m \u001b[0mmode\u001b[0m\u001b[1;33m=\u001b[0m\u001b[1;34m'min'\u001b[0m\u001b[1;33m,\u001b[0m \u001b[0mverbose\u001b[0m\u001b[1;33m=\u001b[0m\u001b[1;36m1\u001b[0m\u001b[1;33m,\u001b[0m \u001b[0mpatience\u001b[0m\u001b[1;33m=\u001b[0m\u001b[1;36m200\u001b[0m\u001b[1;33m)\u001b[0m\u001b[1;33m\u001b[0m\u001b[1;33m\u001b[0m\u001b[0m\n\u001b[0m\u001b[0;32m      4\u001b[0m \u001b[0mmc\u001b[0m \u001b[1;33m=\u001b[0m \u001b[0mModelCheckpoint\u001b[0m\u001b[1;33m(\u001b[0m\u001b[1;34m'best_model.h5'\u001b[0m\u001b[1;33m,\u001b[0m \u001b[0mmonitor\u001b[0m\u001b[1;33m=\u001b[0m\u001b[1;34m'val_accuracy'\u001b[0m\u001b[1;33m,\u001b[0m \u001b[0mmode\u001b[0m\u001b[1;33m=\u001b[0m\u001b[1;34m'max'\u001b[0m\u001b[1;33m,\u001b[0m \u001b[0mverbose\u001b[0m\u001b[1;33m=\u001b[0m\u001b[1;36m1\u001b[0m\u001b[1;33m,\u001b[0m \u001b[0msave_best_only\u001b[0m\u001b[1;33m=\u001b[0m\u001b[1;32mTrue\u001b[0m\u001b[1;33m)\u001b[0m\u001b[1;33m\u001b[0m\u001b[1;33m\u001b[0m\u001b[0m\n",
      "\u001b[1;31mNameError\u001b[0m: name 'EarlyStopping' is not defined"
     ]
    }
   ],
   "source": [
    "LOG_DIR = f\"{int(time.time())}\"\n",
    "tensorboard_callback = tf.keras.callbacks.TensorBoard(log_dir='logs7\\\\hparams', histogram_freq=1)\n",
    "es = EarlyStopping(monitor='val_loss', mode='min', verbose=1, patience=200)\n",
    "mc = ModelCheckpoint('best_model.h5', monitor='val_accuracy', mode='max', verbose=1, save_best_only=True)"
   ]
  },
  {
   "cell_type": "code",
   "execution_count": 5,
   "metadata": {},
   "outputs": [
    {
     "ename": "NameError",
     "evalue": "name 'RandomSearch' is not defined",
     "output_type": "error",
     "traceback": [
      "\u001b[1;31m---------------------------------------------------------------------------\u001b[0m",
      "\u001b[1;31mNameError\u001b[0m                                 Traceback (most recent call last)",
      "\u001b[1;32m<ipython-input-5-e0ee516e83c5>\u001b[0m in \u001b[0;36m<module>\u001b[1;34m\u001b[0m\n\u001b[1;32m----> 1\u001b[1;33m tuner = RandomSearch(\n\u001b[0m\u001b[0;32m      2\u001b[0m     \u001b[0mbuild_model\u001b[0m\u001b[1;33m,\u001b[0m\u001b[1;33m\u001b[0m\u001b[1;33m\u001b[0m\u001b[0m\n\u001b[0;32m      3\u001b[0m     \u001b[0mobjective\u001b[0m\u001b[1;33m=\u001b[0m\u001b[1;34m'val_accuracy'\u001b[0m\u001b[1;33m,\u001b[0m\u001b[1;33m\u001b[0m\u001b[1;33m\u001b[0m\u001b[0m\n\u001b[0;32m      4\u001b[0m     \u001b[0mmax_trials\u001b[0m\u001b[1;33m=\u001b[0m\u001b[1;36m100\u001b[0m\u001b[1;33m,\u001b[0m\u001b[1;33m\u001b[0m\u001b[1;33m\u001b[0m\u001b[0m\n\u001b[0;32m      5\u001b[0m     \u001b[0mexecutions_per_trial\u001b[0m\u001b[1;33m=\u001b[0m\u001b[1;36m5\u001b[0m\u001b[1;33m,\u001b[0m\u001b[1;33m\u001b[0m\u001b[1;33m\u001b[0m\u001b[0m\n",
      "\u001b[1;31mNameError\u001b[0m: name 'RandomSearch' is not defined"
     ]
    }
   ],
   "source": [
    "tuner = RandomSearch(\n",
    "    build_model,\n",
    "    objective='val_accuracy',\n",
    "    max_trials=100,  \n",
    "    executions_per_trial=5,  \n",
    "    directory='logs7',\n",
    "    logger=TensorBoardLogger(\n",
    "        metrics=[\"val_acc\"], logdir=\"logs7\\\\hparams\"\n",
    "    )) \n",
    "setup_tb(tuner)\n",
    "tuner.search(x=X_train,\n",
    "             y=y_train,\n",
    "             verbose=2, \n",
    "             epochs=150,\n",
    "             batch_size=32,\n",
    "             callbacks=[tensorboard_callback],  \n",
    "             validation_data=(X_test, y_test))"
   ]
  },
  {
   "cell_type": "code",
   "execution_count": null,
   "metadata": {},
   "outputs": [],
   "source": []
  }
 ],
 "metadata": {
  "kernelspec": {
   "display_name": "Python 3",
   "language": "python",
   "name": "python3"
  },
  "language_info": {
   "codemirror_mode": {
    "name": "ipython",
    "version": 3
   },
   "file_extension": ".py",
   "mimetype": "text/x-python",
   "name": "python",
   "nbconvert_exporter": "python",
   "pygments_lexer": "ipython3",
   "version": "3.7.7"
  }
 },
 "nbformat": 4,
 "nbformat_minor": 4
}
